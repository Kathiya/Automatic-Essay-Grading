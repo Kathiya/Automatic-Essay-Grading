{
  "nbformat": 4,
  "nbformat_minor": 0,
  "metadata": {
    "colab": {
      "name": "Automated_essay_grading.ipynb",
      "provenance": [],
      "collapsed_sections": [],
      "machine_shape": "hm"
    },
    "kernelspec": {
      "name": "python3",
      "display_name": "Python 3"
    },
    "accelerator": "TPU"
  },
  "cells": [
    {
      "cell_type": "code",
      "metadata": {
        "id": "EUG3MAHna-fI",
        "colab_type": "code",
        "outputId": "458fe577-2ad1-4b60-acdc-781f605c7c94",
        "colab": {
          "base_uri": "https://localhost:8080/",
          "height": 128
        }
      },
      "source": [
        "from google.colab import drive\n",
        "\n",
        "drive.mount('/content/gdrive')"
      ],
      "execution_count": 0,
      "outputs": [
        {
          "output_type": "stream",
          "text": [
            "Go to this URL in a browser: https://accounts.google.com/o/oauth2/auth?client_id=947318989803-6bn6qk8qdgf4n4g3pfee6491hc0brc4i.apps.googleusercontent.com&redirect_uri=urn%3aietf%3awg%3aoauth%3a2.0%3aoob&response_type=code&scope=email%20https%3a%2f%2fwww.googleapis.com%2fauth%2fdocs.test%20https%3a%2f%2fwww.googleapis.com%2fauth%2fdrive%20https%3a%2f%2fwww.googleapis.com%2fauth%2fdrive.photos.readonly%20https%3a%2f%2fwww.googleapis.com%2fauth%2fpeopleapi.readonly\n",
            "\n",
            "Enter your authorization code:\n",
            "··········\n",
            "Mounted at /content/gdrive\n"
          ],
          "name": "stdout"
        }
      ]
    },
    {
      "cell_type": "code",
      "metadata": {
        "id": "01q6MOP9bAyu",
        "colab_type": "code",
        "outputId": "1ad4e3a4-b095-4463-8e0b-bbab45349267",
        "colab": {
          "base_uri": "https://localhost:8080/",
          "height": 35
        }
      },
      "source": [
        "\n",
        "%cd '/content/gdrive/My Drive/automated-essay-grading-master'"
      ],
      "execution_count": 0,
      "outputs": [
        {
          "output_type": "stream",
          "text": [
            "/content/gdrive/My Drive/automated-essay-grading-master\n"
          ],
          "name": "stdout"
        }
      ]
    },
    {
      "cell_type": "code",
      "metadata": {
        "id": "5SingATwBKaD",
        "colab_type": "code",
        "outputId": "d36512ec-226f-45eb-b345-405ca5ea5ba3",
        "colab": {
          "base_uri": "https://localhost:8080/",
          "height": 35
        }
      },
      "source": [
        "import pandas as pd\n",
        "import numpy as np\n",
        "from keras.preprocessing.text import Tokenizer,  text_to_word_sequence\n",
        "from keras.engine.topology import Layer\n",
        "from keras import initializers as initializers, regularizers, constraints\n",
        "from keras.callbacks import Callback, ModelCheckpoint\n",
        "from keras.utils.np_utils import to_categorical\n",
        "from keras.layers import Embedding, Input, Dense, LSTM, GRU, Bidirectional, TimeDistributed, Dropout\n",
        "from keras import backend as K\n",
        "from keras import optimizers\n",
        "from keras.models import Model\n",
        "import nltk\n",
        "import re\n",
        "import matplotlib.pyplot as plt\n",
        "import sys\n",
        "from sklearn.metrics import roc_auc_score\n",
        "from nltk import tokenize\n",
        "import seaborn as sns"
      ],
      "execution_count": 0,
      "outputs": [
        {
          "output_type": "stream",
          "text": [
            "Using TensorFlow backend.\n"
          ],
          "name": "stderr"
        }
      ]
    },
    {
      "cell_type": "code",
      "metadata": {
        "id": "1kWjHehSzvBn",
        "colab_type": "code",
        "colab": {}
      },
      "source": [
        "import re\n",
        "import os as os\n",
        "import numpy as np\n",
        "import itertools\n",
        "import pandas as pd\n",
        "from collections import Counter\n",
        "\n",
        "def load_training_data(training_path, essay_set=1):\n",
        "    training_df = pd.read_csv(training_path, delimiter='\\t', encoding = \"ISO-8859-1\")\n",
        "    # resolved score for essay set 1\n",
        "    resolved_score = training_df[training_df['essay_set'] == essay_set]['domain1_score']\n",
        "    essay_ids = training_df[training_df['essay_set'] == essay_set]['essay_id']\n",
        "    essays = training_df[training_df['essay_set'] == essay_set]['essay']\n",
        "    essay_list = []\n",
        "    # turn an essay to a list of words\n",
        "    for idx, essay in essays.iteritems():\n",
        "        essay = clean_str(essay)\n",
        "        #essay_list.append([w for w in tokenize(essay) if is_ascii(w)])\n",
        "        essay_list.append(essay)\n",
        "    return essay_list, resolved_score.tolist(), essay_ids.tolist()\n",
        "\n",
        "\n",
        "def clean_str(string):\n",
        "    \"\"\"\n",
        "    Tokenization/string cleaning for all datasets except for SST.\n",
        "    Original taken from https://github.com/yoonkim/CNN_sentence/blob/master/process_data.py\n",
        "    \"\"\"\n",
        "    string = re.sub(r\"[^A-Za-z0-9(),!?\\'\\`]\", \" \", string)\n",
        "    string = re.sub(r\"\\'s\", \" \\'s\", string)\n",
        "    string = re.sub(r\"\\'ve\", \" \\'ve\", string)\n",
        "    string = re.sub(r\"n\\'t\", \" n\\'t\", string)\n",
        "    string = re.sub(r\"\\'re\", \" \\'re\", string)\n",
        "    string = re.sub(r\"\\'d\", \" \\'d\", string)\n",
        "    string = re.sub(r\"\\'ll\", \" \\'ll\", string)\n",
        "    string = re.sub(r\",\", \" , \", string)\n",
        "    string = re.sub(r\"!\", \" ! \", string)\n",
        "    string = re.sub(r\"\\(\", \" ( \", string)\n",
        "    string = re.sub(r\"\\)\", \" ) \", string)\n",
        "    string = re.sub(r\"\\?\", \" ? \", string)\n",
        "    string = re.sub(r\"\\s{2,}\", \" \", string)\n",
        "\n",
        "    return string.strip().lower()\n"
      ],
      "execution_count": 0,
      "outputs": []
    },
    {
      "cell_type": "code",
      "metadata": {
        "id": "d3bjKXCsayDN",
        "colab_type": "code",
        "colab": {}
      },
      "source": [
        ""
      ],
      "execution_count": 0,
      "outputs": []
    },
    {
      "cell_type": "code",
      "metadata": {
        "id": "TJ5_skRXax-T",
        "colab_type": "code",
        "colab": {}
      },
      "source": [
        "def dot_product(x, kernel):\n",
        "    \"\"\"\n",
        "    Wrapper for dot product operation, in order to be compatibl|e with both\n",
        "    Theano and Tensorflow\n",
        "    Args:\n",
        "        x (): input\n",
        "        kernel (): weights\n",
        "    Returns:\n",
        "    \"\"\"\n",
        "    if K.backend() == 'tensorflow':\n",
        "        return K.squeeze(K.dot(x, K.expand_dims(kernel)), axis=-1)\n",
        "    else:\n",
        "        return K.dot(x, kernel)\n",
        "\n",
        "class AttentionWithContext(Layer):\n",
        "    \"\"\"\n",
        "    Attention operation, with a context/query vector, for temporal data.\n",
        "    Supports Masking.\n",
        "    Follows the work of Yang et al. [https://www.cs.cmu.edu/~diyiy/docs/naacl16.pdf]\n",
        "    \"Hierarchical Attention Networks for Document Classification\"\n",
        "    by using a context vector to assist the attention\n",
        "    # Input shape\n",
        "        3D tensor with shape: `(samples, steps, features)`.\n",
        "    # Output shape\n",
        "        2D tensor with shape: `(samples, features)`.\n",
        "    How to use:\n",
        "    Just put it on top of an RNN Layer (GRU/LSTM/SimpleRNN) with return_sequences=True.\n",
        "    The dimensions are inferred based on the output shape of the RNN.\n",
        "    Note: The layer has been tested with Keras 2.0.6\n",
        "    Example:\n",
        "        model.add(LSTM(64, return_sequences=True))\n",
        "        model.add(AttentionWithContext())\n",
        "        # next add a Dense layer (for classification/regression) or whatever...\n",
        "    \"\"\"\n",
        "\n",
        "    def __init__(self,\n",
        "                 W_regularizer=None, u_regularizer=None, b_regularizer=None,\n",
        "                 W_constraint=None, u_constraint=None, b_constraint=None,\n",
        "                 bias=True, **kwargs):\n",
        "\n",
        "        self.supports_masking = True\n",
        "        self.init = initializers.get('glorot_uniform')\n",
        "\n",
        "        self.W_regularizer = regularizers.get(W_regularizer)\n",
        "        self.u_regularizer = regularizers.get(u_regularizer)\n",
        "        self.b_regularizer = regularizers.get(b_regularizer)\n",
        "\n",
        "        self.W_constraint = constraints.get(W_constraint)\n",
        "        self.u_constraint = constraints.get(u_constraint)\n",
        "        self.b_constraint = constraints.get(b_constraint)\n",
        "\n",
        "        self.bias = bias\n",
        "        super(AttentionWithContext, self).__init__(**kwargs)\n",
        "\n",
        "    def build(self, input_shape):\n",
        "        assert len(input_shape) == 3\n",
        "\n",
        "        self.W = self.add_weight((input_shape[-1], input_shape[-1],),\n",
        "                                 initializer=self.init,\n",
        "                                 name='{}_W'.format(self.name),\n",
        "                                 regularizer=self.W_regularizer,\n",
        "                                 constraint=self.W_constraint)\n",
        "        if self.bias:\n",
        "            self.b = self.add_weight((input_shape[-1],),\n",
        "                                     initializer='zero',\n",
        "                                     name='{}_b'.format(self.name),\n",
        "                                     regularizer=self.b_regularizer,\n",
        "                                     constraint=self.b_constraint)\n",
        "\n",
        "        self.u = self.add_weight((input_shape[-1],),\n",
        "                                 initializer=self.init,\n",
        "                                 name='{}_u'.format(self.name),\n",
        "                                 regularizer=self.u_regularizer,\n",
        "                                 constraint=self.u_constraint)\n",
        "\n",
        "        super(AttentionWithContext, self).build(input_shape)\n",
        "\n",
        "    def compute_mask(self, input, input_mask=None):\n",
        "        # do not pass the mask to the next layers\n",
        "        return None\n",
        "\n",
        "    def call(self, x, mask=None):\n",
        "        uit = dot_product(x, self.W)\n",
        "\n",
        "        if self.bias:\n",
        "            uit += self.b\n",
        "\n",
        "        uit = K.tanh(uit)\n",
        "        ait = dot_product(uit, self.u)\n",
        "\n",
        "        a = K.exp(ait)\n",
        "\n",
        "        # apply mask after the exp. will be re-normalized next\n",
        "        if mask is not None:\n",
        "            # Cast the mask to floatX to avoid float64 upcasting in theano\n",
        "            a *= K.cast(mask, K.floatx())\n",
        "\n",
        "        # in some cases especially in the early stages of training the sum may be almost zero\n",
        "        # and this results in NaN's. A workaround is to add a very small positive number ε to the sum.\n",
        "        # a /= K.cast(K.sum(a, axis=1, keepdims=True), K.floatx())\n",
        "        a /= K.cast(K.sum(a, axis=1, keepdims=True) + K.epsilon(), K.floatx())\n",
        "\n",
        "        a = K.expand_dims(a)\n",
        "        weighted_input = x * a\n",
        "        return K.sum(weighted_input, axis=1)\n",
        "\n",
        "    def compute_output_shape(self, input_shape):\n",
        "        return input_shape[0], input_shape[-1]"
      ],
      "execution_count": 0,
      "outputs": []
    },
    {
      "cell_type": "code",
      "metadata": {
        "id": "z1eLCWlbax6o",
        "colab_type": "code",
        "colab": {}
      },
      "source": [
        ""
      ],
      "execution_count": 0,
      "outputs": []
    },
    {
      "cell_type": "code",
      "metadata": {
        "id": "cm4W3KBxbDRl",
        "colab_type": "code",
        "colab": {}
      },
      "source": [
        "max_senten_len=811\n",
        "max_senten_num=1\n",
        "embed_size=100\n",
        "VALIDATION_SPLIT = 0.1"
      ],
      "execution_count": 0,
      "outputs": []
    },
    {
      "cell_type": "code",
      "metadata": {
        "id": "BELhktuabD8G",
        "colab_type": "code",
        "colab": {}
      },
      "source": [
        ""
      ],
      "execution_count": 0,
      "outputs": []
    },
    {
      "cell_type": "code",
      "metadata": {
        "id": "N9BrtCrDIKVz",
        "colab_type": "code",
        "outputId": "486fb4f8-d124-485d-c229-2010f7cdae85",
        "colab": {
          "base_uri": "https://localhost:8080/",
          "height": 90
        }
      },
      "source": [
        "training_path='Copy of training_set_rel3_V2.tsv'\n",
        "essay_list = []\n",
        "resolved_scores=[]\n",
        "for i in range(5,6):\n",
        "  essays, resolved, essay_id = load_training_data(training_path,essay_set=i+1)\n",
        "  for  essay in essays:\n",
        "        essay_list.append(essay)\n",
        "  for  essay in resolved:\n",
        "        resolved_scores.append(essay)\n",
        "  \n",
        "  #essay_list.append(essay)\n",
        "  #resolved_scores.append(resolved)\n",
        "  print(\"essay_set :\",i+1)\n",
        "  print(\"max :\",max(resolved_scores))\n",
        "  print(\"min:\",min(resolved_scores))\n",
        "  print(\"lenth :\",len(essay_list))"
      ],
      "execution_count": 0,
      "outputs": [
        {
          "output_type": "stream",
          "text": [
            "essay_set : 6\n",
            "max : 4\n",
            "min: 0\n",
            "lenth : 1800\n"
          ],
          "name": "stdout"
        }
      ]
    },
    {
      "cell_type": "code",
      "metadata": {
        "id": "crLPU_zQFWVG",
        "colab_type": "code",
        "colab": {}
      },
      "source": [
        "\n",
        "\n",
        "a = map(lambda x :math.floor((x/12)*5),demo_score) \n",
        "\n"
      ],
      "execution_count": 0,
      "outputs": []
    },
    {
      "cell_type": "code",
      "metadata": {
        "id": "4VtJikd-b7gg",
        "colab_type": "code",
        "outputId": "8f927840-7714-4d30-a7e2-dc6951065769",
        "colab": {
          "base_uri": "https://localhost:8080/",
          "height": 35
        }
      },
      "source": [
        "\n",
        "#print(min(resolved_scores))\n",
        "demo_score=list(a)\n",
        "print(max(demo_score))"
      ],
      "execution_count": 0,
      "outputs": [
        {
          "output_type": "stream",
          "text": [
            "1\n"
          ],
          "name": "stdout"
        }
      ]
    },
    {
      "cell_type": "code",
      "metadata": {
        "id": "sPdlcOQRb7cQ",
        "colab_type": "code",
        "outputId": "dd2903e6-0efc-44e6-8109-0bf114657dfb",
        "colab": {
          "base_uri": "https://localhost:8080/",
          "height": 53
        }
      },
      "source": [
        "paras = []\n",
        "labels = []\n",
        "texts = []\n",
        "import nltk\n",
        "nltk.download('punkt')\n",
        "from nltk import tokenize"
      ],
      "execution_count": 0,
      "outputs": [
        {
          "output_type": "stream",
          "text": [
            "[nltk_data] Downloading package punkt to /root/nltk_data...\n",
            "[nltk_data]   Unzipping tokenizers/punkt.zip.\n"
          ],
          "name": "stdout"
        }
      ]
    },
    {
      "cell_type": "code",
      "metadata": {
        "id": "mA5bxvRleZ1O",
        "colab_type": "code",
        "colab": {}
      },
      "source": [
        ""
      ],
      "execution_count": 0,
      "outputs": []
    },
    {
      "cell_type": "code",
      "metadata": {
        "id": "wzpclUVmb7Z0",
        "colab_type": "code",
        "colab": {}
      },
      "source": [
        "sent_lens = []\n",
        "sent_nums = []\n",
        "for idx in range(len(essay_list)):\n",
        "    text = clean_str(essay_list[idx])\n",
        "    texts.append(text)\n",
        "    sentences = tokenize.sent_tokenize(text)\n",
        "    sent_nums.append(len(sentences))\n",
        "    for sent in sentences:\n",
        "        sent_lens.append(len(text_to_word_sequence(sent)))\n",
        "    paras.append(sentences)"
      ],
      "execution_count": 0,
      "outputs": []
    },
    {
      "cell_type": "code",
      "metadata": {
        "id": "l1s9CgjTb7Wg",
        "colab_type": "code",
        "outputId": "c8d8a9d9-916f-4860-a620-d74e9b3d3806",
        "colab": {
          "base_uri": "https://localhost:8080/",
          "height": 73
        }
      },
      "source": [
        "print(essay_list[0])\n",
        "print(paras[0])"
      ],
      "execution_count": 0,
      "outputs": [
        {
          "output_type": "stream",
          "text": [
            "there were many obstacles that the builders faced in attempting to have dirigibles dock at the empire state building safety was an issue with the dirigibles because of the highly flammable gas hydrogen so , if the dirigibles explode over new york many people could be killed in the very populated another problem is keeping the derigible caps1 so people can get off while the wind moves the back end of itself the only way was to tie lead weights down in the back of the dirigible , but it would be dangerous over people down below so , these obstacles workers faced , never got past them and so they made the world 's highest soda fountain and tea garden for tourists in the observation area\n",
            "[\"there were many obstacles that the builders faced in attempting to have dirigibles dock at the empire state building safety was an issue with the dirigibles because of the highly flammable gas hydrogen so , if the dirigibles explode over new york many people could be killed in the very populated another problem is keeping the derigible caps1 so people can get off while the wind moves the back end of itself the only way was to tie lead weights down in the back of the dirigible , but it would be dangerous over people down below so , these obstacles workers faced , never got past them and so they made the world 's highest soda fountain and tea garden for tourists in the observation area\"]\n"
          ],
          "name": "stdout"
        }
      ]
    },
    {
      "cell_type": "code",
      "metadata": {
        "id": "WWWuCEaUfCr3",
        "colab_type": "code",
        "colab": {}
      },
      "source": [
        ""
      ],
      "execution_count": 0,
      "outputs": []
    },
    {
      "cell_type": "code",
      "metadata": {
        "id": "Jf2t_dGxfCpP",
        "colab_type": "code",
        "colab": {}
      },
      "source": [
        "tokenizer = Tokenizer( oov_token=True)\n",
        "tokenizer.fit_on_texts(essay_list)"
      ],
      "execution_count": 0,
      "outputs": []
    },
    {
      "cell_type": "code",
      "metadata": {
        "id": "lq8Rs-ptfCnJ",
        "colab_type": "code",
        "colab": {}
      },
      "source": [
        "data = np.zeros((len(texts), max_senten_num, max_senten_len), dtype='int32')\n",
        "for i, sentences in enumerate(paras):\n",
        "    for j, sent in enumerate(sentences):\n",
        "        if j< max_senten_num:\n",
        "            wordTokens = text_to_word_sequence(sent)\n",
        "            k=0\n",
        "            for _, word in enumerate(wordTokens):\n",
        "                try:\n",
        "                    if k<max_senten_len and tokenizer.word_index[word]<10000000000:\n",
        "                        data[i,j,k] = tokenizer.word_index[word]\n",
        "                        k=k+1\n",
        "                except:\n",
        "                    print(word)\n",
        "                    pass"
      ],
      "execution_count": 0,
      "outputs": []
    },
    {
      "cell_type": "code",
      "metadata": {
        "id": "RgfQEoZIfCj1",
        "colab_type": "code",
        "outputId": "b5883ffb-52b1-41b5-8dc1-69f9d05dc50e",
        "colab": {
          "base_uri": "https://localhost:8080/",
          "height": 35
        }
      },
      "source": [
        "word_index = tokenizer.word_index\n",
        "print('Total %s unique tokens.' % len(word_index))"
      ],
      "execution_count": 0,
      "outputs": [
        {
          "output_type": "stream",
          "text": [
            "Total 5338 unique tokens.\n"
          ],
          "name": "stdout"
        }
      ]
    },
    {
      "cell_type": "code",
      "metadata": {
        "id": "tzLnS9xJfCg9",
        "colab_type": "code",
        "outputId": "496cb89d-2f1e-4f18-a7a9-f967e5dc025d",
        "colab": {
          "base_uri": "https://localhost:8080/",
          "height": 271
        }
      },
      "source": [
        "labels = pd.get_dummies(resolved_scores)\n",
        "#labels = pd.get_dummies(demo_score)\n",
        "print(labels)"
      ],
      "execution_count": 0,
      "outputs": [
        {
          "output_type": "stream",
          "text": [
            "      0  1  2  3  4\n",
            "0     0  0  1  0  0\n",
            "1     0  0  0  1  0\n",
            "2     0  0  0  0  1\n",
            "3     0  1  0  0  0\n",
            "4     0  0  0  1  0\n",
            "...  .. .. .. .. ..\n",
            "1795  1  0  0  0  0\n",
            "1796  0  0  1  0  0\n",
            "1797  0  0  0  1  0\n",
            "1798  0  0  1  0  0\n",
            "1799  0  0  1  0  0\n",
            "\n",
            "[1800 rows x 5 columns]\n"
          ],
          "name": "stdout"
        }
      ]
    },
    {
      "cell_type": "code",
      "metadata": {
        "id": "qN3lsEV2fCeW",
        "colab_type": "code",
        "outputId": "2e93d2c2-73f3-4680-d604-1f272ca65ce7",
        "colab": {
          "base_uri": "https://localhost:8080/",
          "height": 90
        }
      },
      "source": [
        "indices = np.arange(data.shape[0])\n",
        "np.random.shuffle(indices)\n",
        "data = data[indices]\n",
        "labels = labels.iloc[indices]\n",
        "nb_validation_samples = int(VALIDATION_SPLIT * data.shape[0])\n",
        "\n",
        "x_train = data[:-nb_validation_samples]\n",
        "y_train = labels[:-nb_validation_samples]\n",
        "x_val = data[-nb_validation_samples:]\n",
        "y_val = labels[-nb_validation_samples:]\n",
        "print('Number of positive and negative reviews in traing and validation set')\n",
        "print(y_train.columns.tolist())\n",
        "print(y_train.sum(axis=0).tolist())\n",
        "print(y_val.sum(axis=0).tolist())"
      ],
      "execution_count": 0,
      "outputs": [
        {
          "output_type": "stream",
          "text": [
            "Number of positive and negative reviews in traing and validation set\n",
            "[0, 1, 2, 3, 4]\n",
            "[42, 151, 361, 740, 326]\n",
            "[2, 16, 44, 77, 41]\n"
          ],
          "name": "stdout"
        }
      ]
    },
    {
      "cell_type": "code",
      "metadata": {
        "id": "7j1ujKQjA8Go",
        "colab_type": "code",
        "colab": {}
      },
      "source": [
        "X = data\n",
        "Y = labels"
      ],
      "execution_count": 0,
      "outputs": []
    },
    {
      "cell_type": "code",
      "metadata": {
        "id": "AXU_VEyiA8WB",
        "colab_type": "code",
        "colab": {}
      },
      "source": [
        ""
      ],
      "execution_count": 0,
      "outputs": []
    },
    {
      "cell_type": "code",
      "metadata": {
        "id": "Gyn3I3FVfCbd",
        "colab_type": "code",
        "colab": {}
      },
      "source": [
        "REG_PARAM = 1e-13\n",
        "l2_reg = regularizers.l2(REG_PARAM)"
      ],
      "execution_count": 0,
      "outputs": []
    },
    {
      "cell_type": "code",
      "metadata": {
        "id": "H_lR0-Y1PHKa",
        "colab_type": "code",
        "outputId": "fd73cb71-7c60-487e-9179-ce52a24acd3f",
        "colab": {
          "base_uri": "https://localhost:8080/",
          "height": 53
        }
      },
      "source": [
        "!unzip 'glove/glove.6B.100d.txt.zip'"
      ],
      "execution_count": 0,
      "outputs": [
        {
          "output_type": "stream",
          "text": [
            "Archive:  glove/glove.6B.100d.txt.zip\n",
            "replace glove.6B.100d.txt? [y]es, [n]o, [A]ll, [N]one, [r]ename: no\n"
          ],
          "name": "stdout"
        }
      ]
    },
    {
      "cell_type": "code",
      "metadata": {
        "id": "3OxzBUe2PHHG",
        "colab_type": "code",
        "colab": {}
      },
      "source": [
        ""
      ],
      "execution_count": 0,
      "outputs": []
    },
    {
      "cell_type": "code",
      "metadata": {
        "id": "XEujZ_DYb7T6",
        "colab_type": "code",
        "outputId": "953c4322-dc13-4e25-bd1c-dea1262d5ee4",
        "colab": {
          "base_uri": "https://localhost:8080/",
          "height": 35
        }
      },
      "source": [
        "GLOVE_DIR = \"glove/glove.6B.100d.txt\"\n",
        "embeddings_index = {}\n",
        "f = open(GLOVE_DIR)\n",
        "for line in f:\n",
        "    try:\n",
        "        values = line.split()\n",
        "        word = values[0]\n",
        "        coefs = np.asarray(values[1:], dtype='float32')\n",
        "        embeddings_index[word] = coefs\n",
        "    except:\n",
        "        print(word)\n",
        "        pass\n",
        "f.close()\n",
        "print('Total %s word vectors.' % len(embeddings_index))"
      ],
      "execution_count": 0,
      "outputs": [
        {
          "output_type": "stream",
          "text": [
            "Total 400000 word vectors.\n"
          ],
          "name": "stdout"
        }
      ]
    },
    {
      "cell_type": "code",
      "metadata": {
        "id": "pVbSzMDbgnNQ",
        "colab_type": "code",
        "outputId": "b8a06a89-e468-4dbf-8bce-afd0fe5a0110",
        "colab": {
          "base_uri": "https://localhost:8080/",
          "height": 35
        }
      },
      "source": [
        "embedding_matrix = np.zeros((len(word_index) + 1, 100))\n",
        "absent_words = 0\n",
        "for word, i in word_index.items():\n",
        "    embedding_vector = embeddings_index.get(word)\n",
        "    if embedding_vector is not None:\n",
        "        # words not found in embedding index will be all-zeros.\n",
        "        embedding_matrix[i] = embedding_vector\n",
        "    else:\n",
        "        absent_words += 1\n",
        "print('Total absent words are', absent_words, 'which is', \"%0.2f\" % (absent_words * 100 / len(word_index)), '% of total words')"
      ],
      "execution_count": 0,
      "outputs": [
        {
          "output_type": "stream",
          "text": [
            "Total absent words are 1161 which is 21.75 % of total words\n"
          ],
          "name": "stdout"
        }
      ]
    },
    {
      "cell_type": "code",
      "metadata": {
        "id": "b912GV3ghq8r",
        "colab_type": "code",
        "outputId": "f3093f61-95f1-4cf0-e72f-4a5cba1f495d",
        "colab": {
          "base_uri": "https://localhost:8080/",
          "height": 35
        }
      },
      "source": [
        "print(len(embedding_matrix))"
      ],
      "execution_count": 0,
      "outputs": [
        {
          "output_type": "stream",
          "text": [
            "5339\n"
          ],
          "name": "stdout"
        }
      ]
    },
    {
      "cell_type": "code",
      "metadata": {
        "id": "LlrYbylshq_j",
        "colab_type": "code",
        "colab": {}
      },
      "source": [
        ""
      ],
      "execution_count": 0,
      "outputs": []
    },
    {
      "cell_type": "code",
      "metadata": {
        "id": "R6-fqAqDgnKA",
        "colab_type": "code",
        "colab": {}
      },
      "source": [
        ""
      ],
      "execution_count": 0,
      "outputs": []
    },
    {
      "cell_type": "markdown",
      "metadata": {
        "id": "vSwuKUiR0Izf",
        "colab_type": "text"
      },
      "source": [
        "experimnet for visulize data\n"
      ]
    },
    {
      "cell_type": "code",
      "metadata": {
        "id": "UP7uskl-gmBn",
        "colab_type": "code",
        "outputId": "4298121b-96fe-479e-b938-6f6a241084e4",
        "colab": {
          "base_uri": "https://localhost:8080/",
          "height": 671
        }
      },
      "source": [
        "'''MODEL for experiment'''\n",
        "from keras import optimizers\n",
        "\n",
        "r_optimizer = optimizers.Adam(lr=0.0005, beta_1=0.9, beta_2=0.999, amsgrad=False)\n",
        "embed_size=100\n",
        "embedding_layer = Embedding(len(word_index) + 1,embed_size,weights=[embedding_matrix], input_length=max_senten_len, trainable=False)\n",
        "word_input = Input(shape=(max_senten_len,), dtype='float32')\n",
        "word_sequences = embedding_layer(word_input)\n",
        "word_lstm = Bidirectional(LSTM(100, return_sequences=True,activation='sigmoid', kernel_regularizer=l2_reg),merge_mode='concat')(word_sequences)\n",
        "word_dense = TimeDistributed(Dense(150, kernel_regularizer=l2_reg))(word_lstm)\n",
        "word_att = AttentionWithContext()(word_dense)\n",
        "wordEncoder = Model(word_input, word_att)\n",
        "wordEncoder.summary()\n",
        "sent_input = Input(shape=(max_senten_num, max_senten_len), dtype='float32')\n",
        "sent_encoder = TimeDistributed(wordEncoder)(sent_input)\n",
        "#sent_lstm = Bidirectional(LSTM(100, return_sequences=True, kernel_regularizer=l2_reg),merge_mode='concat')(sent_encoder)\n",
        "#sent_dense = TimeDistributed(Dense(150 ,activation='sigmoid',kernel_regularizer=l2_reg))(sent_lstm)\n",
        "sent_att =  Dropout(0.5)(AttentionWithContext()(sent_encoder))\n",
        "preds = Dense(5, activation='softmax')(sent_att)\n",
        "model = Model(sent_input, preds)\n",
        "model.compile(loss='categorical_crossentropy',optimizer=r_optimizer,metrics=['acc'])\n",
        "model.summary()"
      ],
      "execution_count": 0,
      "outputs": [
        {
          "output_type": "stream",
          "text": [
            "Model: \"model_3\"\n",
            "_________________________________________________________________\n",
            "Layer (type)                 Output Shape              Param #   \n",
            "=================================================================\n",
            "input_3 (InputLayer)         (None, 811)               0         \n",
            "_________________________________________________________________\n",
            "embedding_2 (Embedding)      (None, 811, 100)          533900    \n",
            "_________________________________________________________________\n",
            "bidirectional_2 (Bidirection (None, 811, 200)          160800    \n",
            "_________________________________________________________________\n",
            "time_distributed_3 (TimeDist (None, 811, 150)          30150     \n",
            "_________________________________________________________________\n",
            "attention_with_context_3 (At (None, 150)               22800     \n",
            "=================================================================\n",
            "Total params: 747,650\n",
            "Trainable params: 213,750\n",
            "Non-trainable params: 533,900\n",
            "_________________________________________________________________\n",
            "Model: \"model_4\"\n",
            "_________________________________________________________________\n",
            "Layer (type)                 Output Shape              Param #   \n",
            "=================================================================\n",
            "input_4 (InputLayer)         (None, 1, 811)            0         \n",
            "_________________________________________________________________\n",
            "time_distributed_4 (TimeDist (None, 1, 150)            747650    \n",
            "_________________________________________________________________\n",
            "attention_with_context_4 (At (None, 150)               22800     \n",
            "_________________________________________________________________\n",
            "dropout_2 (Dropout)          (None, 150)               0         \n",
            "_________________________________________________________________\n",
            "dense_4 (Dense)              (None, 5)                 755       \n",
            "=================================================================\n",
            "Total params: 771,205\n",
            "Trainable params: 237,305\n",
            "Non-trainable params: 533,900\n",
            "_________________________________________________________________\n"
          ],
          "name": "stdout"
        }
      ]
    },
    {
      "cell_type": "code",
      "metadata": {
        "id": "0EdpRrHBtaH_",
        "colab_type": "code",
        "colab": {}
      },
      "source": [
        "'''MODEL'''\n",
        "embed_size=100\n",
        "\n",
        "\n",
        "embedding_layer = Embedding(len(word_index) + 1,embed_size,weights=[embedding_matrix], input_length=max_senten_len, trainable=False)\n",
        "word_input = Input(shape=(max_senten_len,), dtype='float32')\n",
        "word_sequences = embedding_layer(word_input)\n",
        "word_lstm = Bidirectional(LSTM(150, return_sequences=True, kernel_regularizer=l2_reg),merge_mode='concat')(word_sequences)\n",
        "word_dense = TimeDistributed(Dense(200,activation='sigmoid',kernel_regularizer=l2_reg))(word_lstm)\n",
        "word_att = AttentionWithContext()(word_dense)\n",
        "wordEncoder = Model(word_input, word_att)\n",
        "\n",
        "sent_input = Input(shape=(max_senten_num, max_senten_len), dtype='float32')\n",
        "sent_encoder = TimeDistributed(wordEncoder)(sent_input)\n",
        "sent_lstm = Bidirectional(LSTM(150, return_sequences=True, kernel_regularizer=l2_reg),merge_mode='concat')(sent_encoder)\n",
        "sent_dense = TimeDistributed(Dense(200,activation='sigmoid' ,kernel_regularizer=l2_reg))(sent_lstm)\n",
        "sent_att = Dropout(0.5)(AttentionWithContext()(sent_dense))\n",
        "preds = Dense(5, activation='softmax')(sent_att)\n",
        "model = Model(sent_input, preds)\n",
        "\n",
        "#model.compile(loss='categorical_crossentropy',optimizer='adam',metrics=['acc'])\n",
        "model.compile(loss='categorical_crossentropy',optimizer='adam',metrics=['acc'])"
      ],
      "execution_count": 0,
      "outputs": []
    },
    {
      "cell_type": "code",
      "metadata": {
        "id": "Ir3ldbt9hQgT",
        "colab_type": "code",
        "colab": {}
      },
      "source": [
        "# here we used concat in bilstm and trained for 15 epoches with batch size 32 "
      ],
      "execution_count": 0,
      "outputs": []
    },
    {
      "cell_type": "code",
      "metadata": {
        "id": "-KZsvSpHhQj3",
        "colab_type": "code",
        "colab": {}
      },
      "source": [
        "checkpoint = ModelCheckpoint('best_model(experimental)_kathiya.h5', verbose=0, monitor='val_loss',save_best_only=True, mode='auto') "
      ],
      "execution_count": 0,
      "outputs": []
    },
    {
      "cell_type": "code",
      "metadata": {
        "id": "X9eSRVng_Yfs",
        "colab_type": "code",
        "colab": {}
      },
      "source": [
        ""
      ],
      "execution_count": 0,
      "outputs": []
    },
    {
      "cell_type": "code",
      "metadata": {
        "id": "U5_j1FalhQeU",
        "colab_type": "code",
        "outputId": "37d14864-8dd9-488c-ee38-f6ddc9b0ee2e",
        "colab": {
          "base_uri": "https://localhost:8080/",
          "height": 691
        }
      },
      "source": [
        "history = model.fit(x_train, y_train, validation_data=(x_val, y_val), epochs=200, batch_size=32, callbacks=[checkpoint])"
      ],
      "execution_count": 0,
      "outputs": [
        {
          "output_type": "stream",
          "text": [
            "WARNING:tensorflow:From /usr/local/lib/python3.6/dist-packages/tensorflow_core/python/ops/math_grad.py:1424: where (from tensorflow.python.ops.array_ops) is deprecated and will be removed in a future version.\n",
            "Instructions for updating:\n",
            "Use tf.where in 2.0, which has the same broadcast rule as np.where\n",
            "WARNING:tensorflow:From /usr/local/lib/python3.6/dist-packages/keras/backend/tensorflow_backend.py:1033: The name tf.assign_add is deprecated. Please use tf.compat.v1.assign_add instead.\n",
            "\n",
            "WARNING:tensorflow:From /usr/local/lib/python3.6/dist-packages/keras/backend/tensorflow_backend.py:1020: The name tf.assign is deprecated. Please use tf.compat.v1.assign instead.\n",
            "\n",
            "Train on 1620 samples, validate on 180 samples\n",
            "Epoch 1/200\n",
            "1620/1620 [==============================] - 54s 33ms/step - loss: 1.4263 - acc: 0.4105 - val_loss: 1.3078 - val_acc: 0.4278\n",
            "Epoch 2/200\n",
            "1620/1620 [==============================] - 52s 32ms/step - loss: 1.3268 - acc: 0.4395 - val_loss: 1.2732 - val_acc: 0.4278\n",
            "Epoch 3/200\n",
            "1620/1620 [==============================] - 53s 33ms/step - loss: 1.2291 - acc: 0.4722 - val_loss: 1.1562 - val_acc: 0.5056\n",
            "Epoch 4/200\n",
            "1620/1620 [==============================] - 54s 33ms/step - loss: 1.1299 - acc: 0.5037 - val_loss: 1.0877 - val_acc: 0.4667\n",
            "Epoch 5/200\n",
            "1620/1620 [==============================] - 52s 32ms/step - loss: 1.0963 - acc: 0.5086 - val_loss: 1.0982 - val_acc: 0.4944\n",
            "Epoch 6/200\n",
            "1620/1620 [==============================] - 51s 32ms/step - loss: 1.0546 - acc: 0.5235 - val_loss: 0.9909 - val_acc: 0.5611\n",
            "Epoch 7/200\n",
            "1620/1620 [==============================] - 52s 32ms/step - loss: 1.0535 - acc: 0.5198 - val_loss: 0.9874 - val_acc: 0.5722\n",
            "Epoch 8/200\n",
            "1620/1620 [==============================] - 52s 32ms/step - loss: 0.9771 - acc: 0.5481 - val_loss: 0.9391 - val_acc: 0.6944\n",
            "Epoch 9/200\n",
            "1620/1620 [==============================] - 52s 32ms/step - loss: 0.9864 - acc: 0.5475 - val_loss: 0.9406 - val_acc: 0.5500\n",
            "Epoch 10/200\n",
            "1620/1620 [==============================] - 54s 34ms/step - loss: 0.9505 - acc: 0.5500 - val_loss: 0.9165 - val_acc: 0.5889\n",
            "Epoch 11/200\n",
            "1620/1620 [==============================] - 52s 32ms/step - loss: 0.9128 - acc: 0.5710 - val_loss: 0.9066 - val_acc: 0.5389\n",
            "Epoch 12/200\n",
            "1620/1620 [==============================] - 53s 33ms/step - loss: 0.8833 - acc: 0.5852 - val_loss: 0.9206 - val_acc: 0.6222\n",
            "Epoch 13/200\n",
            "1620/1620 [==============================] - 52s 32ms/step - loss: 0.9014 - acc: 0.5660 - val_loss: 0.9989 - val_acc: 0.6056\n",
            "Epoch 14/200\n",
            "1216/1620 [=====================>........] - ETA: 12s - loss: 0.8668 - acc: 0.6077"
          ],
          "name": "stdout"
        }
      ]
    },
    {
      "cell_type": "code",
      "metadata": {
        "id": "fp-Wqkol37Iy",
        "colab_type": "code",
        "colab": {}
      },
      "source": [
        ""
      ],
      "execution_count": 0,
      "outputs": []
    },
    {
      "cell_type": "code",
      "metadata": {
        "id": "NgewM31uhZwI",
        "colab_type": "code",
        "outputId": "2b4634c3-0238-4b35-bf66-3489997efd61",
        "colab": {
          "base_uri": "https://localhost:8080/",
          "height": 35
        }
      },
      "source": [
        "print(history.history.keys())"
      ],
      "execution_count": 0,
      "outputs": [
        {
          "output_type": "stream",
          "text": [
            "dict_keys(['val_loss', 'val_acc', 'loss', 'acc'])\n"
          ],
          "name": "stdout"
        }
      ]
    },
    {
      "cell_type": "code",
      "metadata": {
        "id": "4JnDYoW8zWBR",
        "colab_type": "code",
        "outputId": "d0679e9b-a43a-45eb-e398-1324a88a2e8e",
        "colab": {
          "base_uri": "https://localhost:8080/",
          "height": 295
        }
      },
      "source": [
        "plt.plot(history.history['acc'])\n",
        "plt.plot(history.history['val_acc'])\n",
        "plt.title('model accuracy')\n",
        "plt.ylabel('accuracy')\n",
        "plt.xlabel('epoch')\n",
        "plt.legend(['train', 'test'], loc='upper left')\n",
        "plt.show()"
      ],
      "execution_count": 0,
      "outputs": [
        {
          "output_type": "display_data",
          "data": {
            "image/png": "[encoded data removed]",
            "text/plain": [
              "<Figure size 432x288 with 1 Axes>"
            ]
          },
          "metadata": {
            "tags": []
          }
        }
      ]
    },
    {
      "cell_type": "code",
      "metadata": {
        "id": "cOziZlP3zY_j",
        "colab_type": "code",
        "outputId": "7332267e-de36-4417-f025-5dee75e431b6",
        "colab": {
          "base_uri": "https://localhost:8080/",
          "height": 295
        }
      },
      "source": [
        "# summarize history for loss\n",
        "plt.plot(history.history['loss'])\n",
        "plt.plot(history.history['val_loss'])\n",
        "plt.title('model loss')\n",
        "plt.ylabel('loss')\n",
        "plt.xlabel('epoch')\n",
        "plt.legend(['train', 'test'], loc='upper left')\n",
        "plt.show()"
      ],
      "execution_count": 0,
      "outputs": [
        {
          "output_type": "display_data",
          "data": {
            "image/png": "[encoded data removed]",
            "text/plain": [
              "<Figure size 432x288 with 1 Axes>"
            ]
          },
          "metadata": {
            "tags": []
          }
        }
      ]
    },
    {
      "cell_type": "code",
      "metadata": {
        "id": "TH87nVXX5d6U",
        "colab_type": "code",
        "outputId": "790019ab-2dbb-42e5-d698-3a5a0ed53024",
        "colab": {
          "base_uri": "https://localhost:8080/",
          "height": 53
        }
      },
      "source": [
        "model.evaluate(x_val, y_val)"
      ],
      "execution_count": 0,
      "outputs": [
        {
          "output_type": "stream",
          "text": [
            "180/180 [==============================] - 1s 6ms/step\n"
          ],
          "name": "stdout"
        },
        {
          "output_type": "execute_result",
          "data": {
            "text/plain": [
              "[0.7465940839714474, 0.6555555568801033]"
            ]
          },
          "metadata": {
            "tags": []
          },
          "execution_count": 35
        }
      ]
    },
    {
      "cell_type": "code",
      "metadata": {
        "id": "odMb_fqvzeG_",
        "colab_type": "code",
        "colab": {}
      },
      "source": [
        "model.save('BEST_Model_with_acc_.h5')"
      ],
      "execution_count": 0,
      "outputs": []
    },
    {
      "cell_type": "code",
      "metadata": {
        "id": "Whxit_ayzmNV",
        "colab_type": "code",
        "outputId": "eea06581-9b2f-476b-d99b-2a8f59deacd7",
        "colab": {
          "base_uri": "https://localhost:8080/",
          "height": 35
        }
      },
      "source": [
        "model_yaml = model.to_yaml()\n",
        "with open(\"BEST_Model_with_acc_79_yaml.yaml\", \"w\") as yaml_file:\n",
        "    yaml_file.write(model_yaml)\n",
        "# serialize weights to HDF5\n",
        "model.save_weights(\"BEST_Model_with_acc_79_weights.h5\")\n",
        "print(\"Saved model to disk\")"
      ],
      "execution_count": 0,
      "outputs": [
        {
          "output_type": "stream",
          "text": [
            "Saved model to disk\n"
          ],
          "name": "stdout"
        }
      ]
    },
    {
      "cell_type": "code",
      "metadata": {
        "id": "ial3kSBuz6qB",
        "colab_type": "code",
        "colab": {}
      },
      "source": [
        ""
      ],
      "execution_count": 0,
      "outputs": []
    },
    {
      "cell_type": "code",
      "metadata": {
        "id": "WExkwVqP3ZS7",
        "colab_type": "code",
        "colab": {}
      },
      "source": [
        ""
      ],
      "execution_count": 0,
      "outputs": []
    },
    {
      "cell_type": "code",
      "metadata": {
        "id": "aE1Evmip3ZQG",
        "colab_type": "code",
        "colab": {}
      },
      "source": [
        "testPredict = model.predict(x_val)"
      ],
      "execution_count": 0,
      "outputs": []
    },
    {
      "cell_type": "code",
      "metadata": {
        "id": "kclPWOmb3aW_",
        "colab_type": "code",
        "outputId": "811095a7-5f76-44f9-cb75-14506aad07c6",
        "colab": {
          "base_uri": "https://localhost:8080/",
          "height": 72
        }
      },
      "source": [
        "score = model.evaluate(x_val, y_val, verbose=1)\n",
        "\n",
        "print(\"Test Score:\", score[0])\n",
        "print(\"Test Accuracy:\", score[1])"
      ],
      "execution_count": 0,
      "outputs": [
        {
          "output_type": "stream",
          "text": [
            "180/180 [==============================] - 1s 6ms/step\n",
            "Test Score: 0.7465940839714474\n",
            "Test Accuracy: 0.6555555568801033\n"
          ],
          "name": "stdout"
        }
      ]
    },
    {
      "cell_type": "code",
      "metadata": {
        "id": "aid42XD0AxrA",
        "colab_type": "code",
        "colab": {}
      },
      "source": [
        "result = []\n",
        "for i in testPredict:\n",
        "  m = max(i) \n",
        " \n",
        "  idx = i.tolist().index(m)\n",
        "  \n",
        "  result.append(idx)"
      ],
      "execution_count": 0,
      "outputs": []
    },
    {
      "cell_type": "code",
      "metadata": {
        "id": "1aNrCkicFBlS",
        "colab_type": "code",
        "colab": {}
      },
      "source": [
        "s2 = y_val.idxmax(axis=1)"
      ],
      "execution_count": 0,
      "outputs": []
    },
    {
      "cell_type": "code",
      "metadata": {
        "id": "iuPXgndyDb6u",
        "colab_type": "code",
        "outputId": "f2a0de78-2ddb-4f9c-d2d5-ddbc03044932",
        "colab": {
          "base_uri": "https://localhost:8080/",
          "height": 273
        }
      },
      "source": [
        "print(s2)\n",
        "print(result)"
      ],
      "execution_count": 0,
      "outputs": [
        {
          "output_type": "stream",
          "text": [
            "1687    0\n",
            "1378    4\n",
            "1340    2\n",
            "1720    3\n",
            "463     2\n",
            "       ..\n",
            "1791    2\n",
            "950     3\n",
            "408     4\n",
            "438     3\n",
            "856     3\n",
            "Length: 180, dtype: int64\n",
            "[1, 3, 3, 3, 2, 2, 4, 3, 3, 3, 3, 2, 2, 2, 4, 3, 3, 3, 2, 1, 1, 3, 2, 4, 2, 4, 4, 1, 3, 1, 3, 4, 4, 3, 4, 3, 3, 3, 4, 2, 3, 3, 3, 2, 1, 2, 4, 3, 3, 3, 4, 4, 4, 3, 2, 3, 4, 2, 2, 3, 3, 1, 4, 3, 2, 3, 1, 3, 3, 4, 2, 3, 4, 3, 3, 4, 2, 1, 2, 3, 3, 3, 2, 1, 3, 1, 3, 2, 3, 3, 3, 2, 1, 2, 3, 4, 3, 3, 4, 1, 3, 1, 1, 1, 2, 3, 2, 4, 2, 2, 2, 3, 2, 3, 4, 4, 3, 3, 4, 1, 3, 3, 3, 3, 3, 3, 1, 1, 2, 3, 3, 2, 3, 1, 2, 3, 3, 3, 3, 2, 3, 4, 3, 3, 3, 3, 4, 3, 3, 2, 4, 1, 3, 3, 2, 3, 3, 2, 3, 3, 4, 1, 4, 2, 1, 2, 2, 3, 4, 3, 4, 2, 4, 2, 4, 2, 3, 4, 3, 3]\n"
          ],
          "name": "stdout"
        }
      ]
    },
    {
      "cell_type": "code",
      "metadata": {
        "id": "BzVUsWHLEbcO",
        "colab_type": "code",
        "outputId": "e1e2313d-d7fd-4467-b039-6a7c8000447d",
        "colab": {
          "base_uri": "https://localhost:8080/",
          "height": 283
        }
      },
      "source": [
        "plt.scatter(range(len(result)),result,c='r')\n"
      ],
      "execution_count": 0,
      "outputs": [
        {
          "output_type": "execute_result",
          "data": {
            "text/plain": [
              "<matplotlib.collections.PathCollection at 0x7fed1a589c88>"
            ]
          },
          "metadata": {
            "tags": []
          },
          "execution_count": 41
        },
        {
          "output_type": "display_data",
          "data": {
            "image/png": "[encoded data removed]",
            "text/plain": [
              "<Figure size 432x288 with 1 Axes>"
            ]
          },
          "metadata": {
            "tags": []
          }
        }
      ]
    },
    {
      "cell_type": "code",
      "metadata": {
        "id": "HNif9LDdFYCH",
        "colab_type": "code",
        "outputId": "fdfa208c-98b5-4f96-91bb-d1f843b5daa8",
        "colab": {
          "base_uri": "https://localhost:8080/",
          "height": 283
        }
      },
      "source": [
        "plt.scatter(range(len(s2)),s2,c='g')"
      ],
      "execution_count": 0,
      "outputs": [
        {
          "output_type": "execute_result",
          "data": {
            "text/plain": [
              "<matplotlib.collections.PathCollection at 0x7fed1a570f28>"
            ]
          },
          "metadata": {
            "tags": []
          },
          "execution_count": 42
        },
        {
          "output_type": "display_data",
          "data": {
            "image/png": "[encoded data removed]",
            "text/plain": [
              "<Figure size 432x288 with 1 Axes>"
            ]
          },
          "metadata": {
            "tags": []
          }
        }
      ]
    },
    {
      "cell_type": "code",
      "metadata": {
        "id": "yW7mfTP2eGcm",
        "colab_type": "code",
        "colab": {}
      },
      "source": [
        "from keras.models import load_model\n",
        "#from AttentionWithContext import create_custom_objects\n",
        "\n",
        "history = load_model('experimental_han.h5', custom_objects=create_custom_objects())\n",
        "\n",
        "model.evaluate(x_val, y_val) # or model.predict"
      ],
      "execution_count": 0,
      "outputs": []
    },
    {
      "cell_type": "code",
      "metadata": {
        "id": "AlQXT4iOe4n2",
        "colab_type": "code",
        "colab": {}
      },
      "source": [
        "history.evaluate(x_val, y_val) # or model.predict"
      ],
      "execution_count": 0,
      "outputs": []
    },
    {
      "cell_type": "code",
      "metadata": {
        "id": "GDwQyVXwk6u8",
        "colab_type": "code",
        "colab": {}
      },
      "source": [
        ""
      ],
      "execution_count": 0,
      "outputs": []
    },
    {
      "cell_type": "markdown",
      "metadata": {
        "id": "16UYyBf2ifKT",
        "colab_type": "text"
      },
      "source": [
        "# Evolution by entering own Esssay and get marks **according** **bold text**"
      ]
    },
    {
      "cell_type": "code",
      "metadata": {
        "id": "kcyXocigt8ec",
        "colab_type": "code",
        "colab": {}
      },
      "source": [
        ""
      ],
      "execution_count": 0,
      "outputs": []
    }
  ]
}